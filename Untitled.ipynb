{
 "cells": [
  {
   "cell_type": "code",
   "execution_count": 1,
   "metadata": {},
   "outputs": [
    {
     "name": "stdout",
     "output_type": "stream",
     "text": [
      "정수 입력>>5\n"
     ]
    },
    {
     "ename": "ValueError",
     "evalue": "invalid literal for int() with base 10: '>5'",
     "output_type": "error",
     "traceback": [
      "\u001b[1;31m---------------------------------------------------------------------------\u001b[0m",
      "\u001b[1;31mValueError\u001b[0m                                Traceback (most recent call last)",
      "\u001b[1;32m<ipython-input-1-d1f98a31b3ec>\u001b[0m in \u001b[0;36m<module>\u001b[1;34m\u001b[0m\n\u001b[0;32m      1\u001b[0m \u001b[1;31m# 양수 판별\u001b[0m\u001b[1;33m\u001b[0m\u001b[1;33m\u001b[0m\u001b[1;33m\u001b[0m\u001b[0m\n\u001b[1;32m----> 2\u001b[1;33m \u001b[0mn\u001b[0m\u001b[1;33m=\u001b[0m\u001b[0mint\u001b[0m\u001b[1;33m(\u001b[0m\u001b[0minput\u001b[0m\u001b[1;33m(\u001b[0m\u001b[1;34m'정수 입력>'\u001b[0m\u001b[1;33m)\u001b[0m\u001b[1;33m)\u001b[0m\u001b[1;33m\u001b[0m\u001b[1;33m\u001b[0m\u001b[0m\n\u001b[0m",
      "\u001b[1;31mValueError\u001b[0m: invalid literal for int() with base 10: '>5'"
     ]
    }
   ],
   "source": [
    "# 양수 판별\n",
    "n=int(input('정수 입력>'))"
   ]
  },
  {
   "cell_type": "code",
   "execution_count": 2,
   "metadata": {},
   "outputs": [
    {
     "name": "stdout",
     "output_type": "stream",
     "text": [
      "정수 입력>5\n"
     ]
    }
   ],
   "source": [
    "#양수 판별\n",
    "n=int(input('정수 입력>'))"
   ]
  },
  {
   "cell_type": "code",
   "execution_count": 3,
   "metadata": {},
   "outputs": [
    {
     "name": "stdout",
     "output_type": "stream",
     "text": [
      "5은/는 양수입니다.\n"
     ]
    }
   ],
   "source": [
    "name="
   ]
  },
  {
   "cell_type": "code",
   "execution_count": 4,
   "metadata": {},
   "outputs": [
    {
     "name": "stdout",
     "output_type": "stream",
     "text": [
      "필기성적> 85\n",
      "실기성적> 75\n"
     ]
    }
   ],
   "source": [
    "# 논리 곱\n",
    "score1 = int(input('필기성적> ')) \n",
    "score2 = int(input('실기성적> '))"
   ]
  },
  {
   "cell_type": "code",
   "execution_count": 5,
   "metadata": {},
   "outputs": [
    {
     "name": "stdout",
     "output_type": "stream",
     "text": [
      "불합격!\n"
     ]
    }
   ],
   "source": [
    "if score1 >= 80 and score2 >= 80 : \n",
    "    print('합격!') \n",
    "else : print('불합격!')"
   ]
  },
  {
   "cell_type": "code",
   "execution_count": 7,
   "metadata": {},
   "outputs": [
    {
     "name": "stdout",
     "output_type": "stream",
     "text": [
      "불합격!\n"
     ]
    }
   ],
   "source": [
    "if (score1 >= 80) and (score2 >= 80) : \n",
    "    print('합격!') \n",
    "else : print('불합격!')"
   ]
  },
  {
   "cell_type": "code",
   "execution_count": 12,
   "metadata": {},
   "outputs": [
    {
     "name": "stdout",
     "output_type": "stream",
     "text": [
      "이름입력> James\n"
     ]
    }
   ],
   "source": [
    "# 논리 부정\n",
    "name= None\n",
    "name = input('이름입력> ')"
   ]
  },
  {
   "cell_type": "code",
   "execution_count": 13,
   "metadata": {},
   "outputs": [
    {
     "name": "stdout",
     "output_type": "stream",
     "text": [
      "이름: James\n"
     ]
    }
   ],
   "source": [
    "if not name : \n",
    "    print('이름이입력되지 않았음.')\n",
    "else : \n",
    "    print('이름: %s' % name)"
   ]
  },
  {
   "cell_type": "code",
   "execution_count": 14,
   "metadata": {},
   "outputs": [
    {
     "name": "stdout",
     "output_type": "stream",
     "text": [
      "정수 입력>0\n"
     ]
    }
   ],
   "source": [
    "# 양수, 0, 음수 판별\n",
    "n=int(input('정수 입력>'))"
   ]
  },
  {
   "cell_type": "code",
   "execution_count": 16,
   "metadata": {},
   "outputs": [
    {
     "name": "stdout",
     "output_type": "stream",
     "text": [
      "0입니다\n"
     ]
    }
   ],
   "source": [
    "if n>0 :\n",
    "    print('%d은/는 양수입니다.'%n)\n",
    "elif n==0 :\n",
    "    print('0입니다')\n",
    "else:\n",
    "    print('%d 은/는 0 또는 음수입니다.'%n)\n"
   ]
  },
  {
   "cell_type": "code",
   "execution_count": 17,
   "metadata": {},
   "outputs": [
    {
     "name": "stdout",
     "output_type": "stream",
     "text": [
      "비밀번호입력: 32664\n",
      "비밀번호Not OK!\n"
     ]
    }
   ],
   "source": [
    "answer = '12345' \n",
    "password = input('비밀번호입력: ')\n",
    "\n",
    "if password == answer : \n",
    "    print('비밀번호OK!') \n",
    "else : \n",
    "    print('비밀번호Not OK!')\n"
   ]
  },
  {
   "cell_type": "code",
   "execution_count": 18,
   "metadata": {
    "scrolled": true
   },
   "outputs": [
    {
     "name": "stdout",
     "output_type": "stream",
     "text": [
      "점수를입력하 세요: 85\n",
      "성적: 85점\n",
      "등급: B\n"
     ]
    }
   ],
   "source": [
    "score = int(input('점수를입력하 세요: '))\n",
    "\n",
    "if score >= 90 : \n",
    "    grade = 'A' \n",
    "elif score >= 80 : \n",
    "    grade = 'B' \n",
    "elif score >= 70 : \n",
    "    grade = 'C'\n",
    "elif score >= 60 : \n",
    "    grade = 'D' \n",
    "else : \n",
    "    grade = 'F'\n",
    "print('성적: %d점' % score) \n",
    "print('등급: %s' % grade)"
   ]
  },
  {
   "cell_type": "code",
   "execution_count": null,
   "metadata": {},
   "outputs": [],
   "source": [
    "# 세 수의 합과 평균\n",
    "x=int(input('숫자>'))\n",
    "y=int(input('숫자>'))\n",
    "z=int(input('숫자>'))\n",
    "파이썬에서는 꼭 이렇게 일일히 할 필요 없이 = 앞에 여러개를 쓸 수  있는 방법이 있다\n",
    "\n",
    "x,y,z=input('세개의 숫자 입력').split()"
   ]
  },
  {
   "cell_type": "code",
   "execution_count": 19,
   "metadata": {
    "scrolled": true
   },
   "outputs": [
    {
     "name": "stdout",
     "output_type": "stream",
     "text": [
      "세개의 숫자 입력35,67,94\n"
     ]
    },
    {
     "ename": "ValueError",
     "evalue": "not enough values to unpack (expected 3, got 1)",
     "output_type": "error",
     "traceback": [
      "\u001b[1;31m---------------------------------------------------------------------------\u001b[0m",
      "\u001b[1;31mValueError\u001b[0m                                Traceback (most recent call last)",
      "\u001b[1;32m<ipython-input-19-556fcdc8adf9>\u001b[0m in \u001b[0;36m<module>\u001b[1;34m\u001b[0m\n\u001b[1;32m----> 1\u001b[1;33m \u001b[0mx\u001b[0m\u001b[1;33m,\u001b[0m\u001b[0my\u001b[0m\u001b[1;33m,\u001b[0m\u001b[0mz\u001b[0m\u001b[1;33m=\u001b[0m\u001b[0minput\u001b[0m\u001b[1;33m(\u001b[0m\u001b[1;34m'세개의 숫자 입력'\u001b[0m\u001b[1;33m)\u001b[0m\u001b[1;33m.\u001b[0m\u001b[0msplit\u001b[0m\u001b[1;33m(\u001b[0m\u001b[1;33m)\u001b[0m\u001b[1;33m\u001b[0m\u001b[1;33m\u001b[0m\u001b[0m\n\u001b[0m",
      "\u001b[1;31mValueError\u001b[0m: not enough values to unpack (expected 3, got 1)"
     ]
    }
   ],
   "source": [
    "x,y,z=input('세개의 숫자 입력').split()"
   ]
  },
  {
   "cell_type": "code",
   "execution_count": 20,
   "metadata": {},
   "outputs": [
    {
     "name": "stdout",
     "output_type": "stream",
     "text": [
      "세개의 숫자 입력35 67 94\n"
     ]
    }
   ],
   "source": [
    "x,y,z=input('세개의 숫자 입력').split()"
   ]
  },
  {
   "cell_type": "code",
   "execution_count": 21,
   "metadata": {},
   "outputs": [
    {
     "data": {
      "text/plain": [
       "('35', '67', '94')"
      ]
     },
     "execution_count": 21,
     "metadata": {},
     "output_type": "execute_result"
    }
   ],
   "source": [
    "x, y, z"
   ]
  },
  {
   "cell_type": "code",
   "execution_count": 22,
   "metadata": {},
   "outputs": [
    {
     "data": {
      "text/plain": [
       "(35, 67, 94)"
      ]
     },
     "execution_count": 22,
     "metadata": {},
     "output_type": "execute_result"
    }
   ],
   "source": [
    "int(x), int(y), int(z)"
   ]
  },
  {
   "cell_type": "code",
   "execution_count": 24,
   "metadata": {},
   "outputs": [
    {
     "data": {
      "text/plain": [
       "(169, 56.333333333333336)"
      ]
     },
     "execution_count": 24,
     "metadata": {},
     "output_type": "execute_result"
    }
   ],
   "source": [
    "sum=x+y+z\n",
    "avg=sum/3\n",
    "sum,avg"
   ]
  },
  {
   "cell_type": "code",
   "execution_count": 38,
   "metadata": {},
   "outputs": [],
   "source": [
    "# 만 나이 계산\n",
    "current_year=2020\n",
    "current_month=8\n",
    "current_day=28"
   ]
  },
  {
   "cell_type": "code",
   "execution_count": 41,
   "metadata": {},
   "outputs": [
    {
     "name": "stdout",
     "output_type": "stream",
     "text": [
      "생일 입력> 2000 8 24\n"
     ]
    },
    {
     "data": {
      "text/plain": [
       "(2000, 8, 24)"
      ]
     },
     "execution_count": 41,
     "metadata": {},
     "output_type": "execute_result"
    }
   ],
   "source": [
    "birth_year,birth_month,birth_day=map(int, input('생일 입력> ').split())\n",
    "birth_year,birth_month,birth_day"
   ]
  },
  {
   "cell_type": "code",
   "execution_count": 42,
   "metadata": {
    "scrolled": true
   },
   "outputs": [
    {
     "name": "stdout",
     "output_type": "stream",
     "text": [
      "20\n"
     ]
    }
   ],
   "source": [
    "if current_month> birth_month:              #현재월>생월\n",
    "    age=current_year-birth_year\n",
    "elif current_month<birth_month:             #현재월<생월\n",
    "    age=current_year-birth_year-1\n",
    "else:   \n",
    "    if current_day< birth_day:              \n",
    "        age= current_year-birth_year-1\n",
    "    else:\n",
    "        age=current_year-birth_year  \n",
    "        \n",
    "print(age)        "
   ]
  },
  {
   "cell_type": "code",
   "execution_count": 37,
   "metadata": {},
   "outputs": [
    {
     "data": {
      "text/plain": [
       "datetime.datetime(2020, 8, 28, 11, 16, 48, 662278)"
      ]
     },
     "execution_count": 37,
     "metadata": {},
     "output_type": "execute_result"
    }
   ],
   "source": [
    "# 파이썬 datetime 모듈 활용\n",
    "import datetime\n",
    "datetime.datetime.now()"
   ]
  },
  {
   "cell_type": "code",
   "execution_count": 40,
   "metadata": {},
   "outputs": [
    {
     "data": {
      "text/plain": [
       "(2020, 8, 28)"
      ]
     },
     "execution_count": 40,
     "metadata": {},
     "output_type": "execute_result"
    }
   ],
   "source": [
    "current_year=datetime.datetime.now().year\n",
    "current_month=datetime.datetime.now().month\n",
    "current_day=datetime.datetime.now().day\n",
    "current_year,current_month,current_day"
   ]
  },
  {
   "cell_type": "code",
   "execution_count": 48,
   "metadata": {
    "scrolled": true
   },
   "outputs": [
    {
     "name": "stdout",
     "output_type": "stream",
     "text": [
      "생일 6자리 숫자> 000430\n"
     ]
    },
    {
     "data": {
      "text/plain": [
       "(2000, 4, 30)"
      ]
     },
     "execution_count": 48,
     "metadata": {},
     "output_type": "execute_result"
    }
   ],
   "source": [
    "# 생일 6자리 숫자로 받아서 처리하기\n",
    "birthday=input('생일 6자리 숫자> ')\n",
    "b_year=int(birthday[:2])\n",
    "if b_year<=20:\n",
    "    b_year+=2000\n",
    "else:\n",
    "    b_year+=1900\n",
    "b_month=int(birthday[2:4])\n",
    "b_day=int(birthday[4:])\n",
    "b_year,b_month,b_day"
   ]
  },
  {
   "cell_type": "code",
   "execution_count": 1,
   "metadata": {},
   "outputs": [
    {
     "name": "stdout",
     "output_type": "stream",
     "text": [
      "생일 (6, 7, 8자리 숫자)> 2000 08 28\n",
      "2000 0 8\n"
     ]
    }
   ],
   "source": [
    "# 생일 임의의 연속된 숫자로 받아서 처리하기\n",
    "birthday=input('생일 (6, 7, 8자리 숫자)> ')\n",
    "if len(birthday)==6:\n",
    "    b_year=int(birthday[:2])\n",
    "    if b_year<=20:\n",
    "        b_year+=2000\n",
    "    else:\n",
    "        b_year+=1900\n",
    "    b_month=int(birthday[2:4])\n",
    "    b_day=int(birthday[4:])\n",
    "elif len(birthday)==7:\n",
    "    b_year=int(birthday[:2])\n",
    "    if int(birthday[-1])>2==0:\n",
    "        b_year+=2000\n",
    "    else:\n",
    "        b_year+=1900\n",
    "    b_month=int(birthday[2:4])\n",
    "    b_day=int(birthday[4:6])\n",
    "else:\n",
    "    b_year=int(birthday[:4])\n",
    "    b_month=int(birthday[4:6])\n",
    "    b_day=int(birthday[6:8])\n",
    "\n",
    "print(b_year,b_month,b_day)"
   ]
  },
  {
   "cell_type": "code",
   "execution_count": 2,
   "metadata": {},
   "outputs": [
    {
     "name": "stdout",
     "output_type": "stream",
     "text": [
      "생일 (6, 7, 8자리 숫자)> 000828\n",
      "2000 8 28\n"
     ]
    }
   ],
   "source": [
    "# 생일 임의의 연속된 숫자로 받아서 처리하기\n",
    "birthday=input('생일 (6, 7, 8자리 숫자)> ')\n",
    "if len(birthday)==6:\n",
    "    b_year=int(birthday[:2])\n",
    "    if b_year<=20:\n",
    "        b_year+=2000\n",
    "    else:\n",
    "        b_year+=1900\n",
    "    b_month=int(birthday[2:4])\n",
    "    b_day=int(birthday[4:])\n",
    "elif len(birthday)==7:\n",
    "    b_year=int(birthday[:2])\n",
    "    if int(birthday[-1])>2==0:\n",
    "        b_year+=2000\n",
    "    else:\n",
    "        b_year+=1900\n",
    "    b_month=int(birthday[2:4])\n",
    "    b_day=int(birthday[4:6])\n",
    "else:\n",
    "    b_year=int(birthday[:4])\n",
    "    b_month=int(birthday[4:6])\n",
    "    b_day=int(birthday[6:8])\n",
    "\n",
    "print(b_year,b_month,b_day)"
   ]
  },
  {
   "cell_type": "code",
   "execution_count": 3,
   "metadata": {},
   "outputs": [
    {
     "name": "stdout",
     "output_type": "stream",
     "text": [
      "생일 (6, 7, 8자리 숫자)> 20000828\n",
      "6~8자리의 숫자를 입력하세요\n",
      "2000 8 28\n"
     ]
    }
   ],
   "source": [
    "# 생일 임의의 연속된 숫자로 받아서 처리하기\n",
    "birthday=input('생일 (6, 7, 8자리 숫자)> ')\n",
    "if len(birthday)==6:\n",
    "    b_year=int(birthday[:2])\n",
    "    if b_year<=20:\n",
    "        b_year+=2000\n",
    "    else:\n",
    "        b_year+=1900\n",
    "    b_month=int(birthday[2:4])\n",
    "    b_day=int(birthday[4:])\n",
    "elif len(birthday)==7:\n",
    "    b_year=int(birthday[:2])\n",
    "    if int(birthday[-1])>2==0:\n",
    "        b_year+=2000\n",
    "    else:\n",
    "        b_year+=1900\n",
    "    b_month=int(birthday[2:4])\n",
    "    b_day=int(birthday[4:6])\n",
    "else:\n",
    "    print('6~8자리의 숫자를 입력하세요')\n",
    "    \n",
    "print(b_year,b_month,b_day)"
   ]
  },
  {
   "cell_type": "code",
   "execution_count": null,
   "metadata": {},
   "outputs": [],
   "source": []
  },
  {
   "cell_type": "code",
   "execution_count": null,
   "metadata": {},
   "outputs": [],
   "source": []
  },
  {
   "cell_type": "code",
   "execution_count": null,
   "metadata": {},
   "outputs": [],
   "source": []
  },
  {
   "cell_type": "code",
   "execution_count": null,
   "metadata": {},
   "outputs": [],
   "source": []
  }
 ],
 "metadata": {
  "kernelspec": {
   "display_name": "Python 3",
   "language": "python",
   "name": "python3"
  },
  "language_info": {
   "codemirror_mode": {
    "name": "ipython",
    "version": 3
   },
   "file_extension": ".py",
   "mimetype": "text/x-python",
   "name": "python",
   "nbconvert_exporter": "python",
   "pygments_lexer": "ipython3",
   "version": "3.8.3"
  }
 },
 "nbformat": 4,
 "nbformat_minor": 4
}
